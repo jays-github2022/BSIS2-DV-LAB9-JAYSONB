{
  "nbformat": 4,
  "nbformat_minor": 0,
  "metadata": {
    "colab": {
      "provenance": [],
      "authorship_tag": "ABX9TyNvV2/er+wLDn4N59Y/7ypd",
      "include_colab_link": true
    },
    "kernelspec": {
      "name": "python3",
      "display_name": "Python 3"
    },
    "language_info": {
      "name": "python"
    }
  },
  "cells": [
    {
      "cell_type": "markdown",
      "metadata": {
        "id": "view-in-github",
        "colab_type": "text"
      },
      "source": [
        "<a href=\"https://colab.research.google.com/github/jays-github2022/BSIS2-DV-LAB9-JAYSONB/blob/main/Laboratory_9.ipynb\" target=\"_parent\"><img src=\"https://colab.research.google.com/assets/colab-badge.svg\" alt=\"Open In Colab\"/></a>"
      ]
    },
    {
      "cell_type": "code",
      "execution_count": 1,
      "metadata": {
        "colab": {
          "base_uri": "https://localhost:8080/"
        },
        "id": "lYtZfUQC1R8B",
        "outputId": "bf4c9793-1488-414a-e8a5-1747c2c203bb"
      },
      "outputs": [
        {
          "output_type": "stream",
          "name": "stdout",
          "text": [
            "J\n",
            "a\n",
            "y\n",
            "s\n",
            "o\n",
            "n\n",
            " \n",
            "B\n",
            "i\n",
            "n\n",
            "a\n",
            "b\n",
            "e\n",
            "s\n",
            "e\n"
          ]
        }
      ],
      "source": [
        "myName=\"Jayson Binabese\"\n",
        "for x in myName:\n",
        "  print(x)"
      ]
    },
    {
      "cell_type": "code",
      "source": [
        "Range=(11)\n",
        "for x in range(11):\n",
        "   print(x)\n",
        "else:\n",
        "   print(\"\\nFinally done!\")"
      ],
      "metadata": {
        "colab": {
          "base_uri": "https://localhost:8080/"
        },
        "id": "UUzJBFL21jt9",
        "outputId": "bb4b05ca-490a-4eda-8640-f5256adaa970"
      },
      "execution_count": 4,
      "outputs": [
        {
          "output_type": "stream",
          "name": "stdout",
          "text": [
            "0\n",
            "1\n",
            "2\n",
            "3\n",
            "4\n",
            "5\n",
            "6\n",
            "7\n",
            "8\n",
            "9\n",
            "10\n",
            "\n",
            "Finally done!\n"
          ]
        }
      ]
    },
    {
      "cell_type": "code",
      "source": [
        "thislist=[\"Pineapple\",\"Grilled Meat\",\"Lettuce\", \"Tomato\"]\n",
        "for x in thislist:\n",
        "  print(x)"
      ],
      "metadata": {
        "colab": {
          "base_uri": "https://localhost:8080/"
        },
        "id": "myjZ2vRS1yM8",
        "outputId": "9df90c6f-2d6b-4f18-cabc-5795b5caecc2"
      },
      "execution_count": 13,
      "outputs": [
        {
          "output_type": "stream",
          "name": "stdout",
          "text": [
            "Pineapple\n",
            "Grilled Meat\n",
            "Lettuce\n",
            "Tomato\n"
          ]
        }
      ]
    },
    {
      "cell_type": "code",
      "source": [
        "list(range(0,20))"
      ],
      "metadata": {
        "id": "LU0_FvQP3Ml8"
      },
      "execution_count": null,
      "outputs": []
    },
    {
      "cell_type": "code",
      "source": [
        "clans=['ALPHA','OMEGA','GIGANTIC']\n",
        "for i in range(len(clans)):\n",
        "  print(clans[i])"
      ],
      "metadata": {
        "colab": {
          "base_uri": "https://localhost:8080/"
        },
        "id": "mPrhbPyu3VMC",
        "outputId": "3c327395-2b7f-4602-fdcf-e8ef448e6912"
      },
      "execution_count": 17,
      "outputs": [
        {
          "output_type": "stream",
          "name": "stdout",
          "text": [
            "ALPHA\n",
            "OMEGA\n",
            "GIGANTIC\n"
          ]
        }
      ]
    }
  ]
}